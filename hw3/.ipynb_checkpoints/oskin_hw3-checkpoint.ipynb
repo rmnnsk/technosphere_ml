{
 "cells": [
  {
   "cell_type": "markdown",
   "metadata": {},
   "source": [
    "### Алгоритмы интеллектуальной обработки больших объемов данных\n",
    "## Домашнее задание №3 - Дерево решений\n"
   ]
  },
  {
   "cell_type": "markdown",
   "metadata": {},
   "source": [
    "**Общая информация**\n",
    "\n",
    "**Срок сдачи:** 08 декабря 2020, 08:30   \n",
    "**Штраф за опоздание:** -2 балла после 08:30 08 декабря, -4 балла после 08:30 15 декабря, -6 баллов после 08:30 22 декабря, -8 баллов после 08:30 29 декабря.\n",
    "\n",
    "При отправлении ДЗ указывайте фамилию в названии файла Присылать ДЗ необходимо в виде ссылки на свой github репозиторий на почту ml1.sphere@mail.ru с указанием темы в следующем формате:\n",
    "[ML0220, Задание 3] Фамилия Имя. \n",
    "\n",
    "\n",
    "Используйте данный Ipython Notebook при оформлении домашнего задания."
   ]
  },
  {
   "cell_type": "markdown",
   "metadata": {},
   "source": [
    "##  Реализуем дерево решений (3 балла)"
   ]
  },
  {
   "cell_type": "markdown",
   "metadata": {},
   "source": [
    "Допишите недостающие части дерева решений. Ваша реализация дерева должна работать по точности не хуже DecisionTreeClassifier из sklearn.\n",
    "Внимание: если Вас не устраивает предложенная структура хранения дерева, Вы без потери баллов можете сделать свой класс DecisionTreeClassifier, в котором сами полностью воспроизведете алгоритм дерева решений. Обязательно в нем иметь только функции fit, predict"
   ]
  },
  {
   "cell_type": "code",
   "execution_count": 389,
   "metadata": {},
   "outputs": [],
   "source": [
    "import matplotlib.pyplot as plt\n",
    "import numpy as np\n",
    "import pandas as pd\n",
    "\n",
    "from sklearn.datasets import load_wine\n",
    "from sklearn.ensemble import RandomForestClassifier\n",
    "from sklearn.metrics import accuracy_score, f1_score\n",
    "from sklearn.model_selection import KFold, train_test_split, GridSearchCV, RandomizedSearchCV\n",
    "from sklearn.tree import DecisionTreeClassifier, plot_tree\n",
    "\n",
    "from collections import defaultdict"
   ]
  },
  {
   "cell_type": "code",
   "execution_count": 390,
   "metadata": {},
   "outputs": [],
   "source": [
    "class MyDecisionTreeClassifier:\n",
    "    NON_LEAF_TYPE = 0\n",
    "    LEAF_TYPE = 1\n",
    "\n",
    "    def __init__(self, min_samples_split=2, max_depth=5, criterion='gini'):\n",
    "        \"\"\"\n",
    "        criterion -- критерий расщепления. необходимо релизовать три:\n",
    "        Ошибка классификации, Индекс Джини, Энтропийный критерий\n",
    "        max_depth -- максимальная глубина дерева\n",
    "        min_samples_split -- минимальное число объектов в листе, чтобы сделать новый сплит\n",
    "        \"\"\"\n",
    "        self.min_samples_split = min_samples_split\n",
    "        self.max_depth = max_depth\n",
    "        self.num_class = -1\n",
    "        # Для последнего задания\n",
    "        self.feature_importances_ = None\n",
    "        self.criterion = criterion\n",
    "        # Структура, которая описывает дерево\n",
    "        # Представляет словарь, где для  node_id (айдишник узла дерева) храним\n",
    "        # (тип_узла, айдишник признака сплита, порог сплита) если тип NON_LEAF_TYPE\n",
    "        # (тип_узла, предсказание класса, вероятность класса) если тип LEAF_TYPE\n",
    "        # Подразумевается, что у каждого node_id в дереве слева \n",
    "        # узел с айди 2 * node_id + 1, а справа 2 * node_id + 2\n",
    "        self.tree = dict()\n",
    "        self.feature_importance = defaultdict(int)\n",
    "        \n",
    "    def __div_samples(self, x, y, feature_id, threshold):\n",
    "        \"\"\"\n",
    "        Разделяет объекты на 2 множества\n",
    "        x -- матрица объектов\n",
    "        y -- вектор ответов\n",
    "        feature_id -- айдишник признака, по которому делаем сплит\n",
    "        threshold -- порог, по которому делаем сплит\n",
    "        \"\"\"\n",
    "        right_mask = x[:, feature_id] > threshold\n",
    "        left_mask = ~right_mask\n",
    "        return x[left_mask], x[right_mask], y[left_mask], y[right_mask]\n",
    "\n",
    "    def __find_threshold(self, x, y):\n",
    "        \"\"\"\n",
    "        Находим оптимальный признак и порог для сплита\n",
    "        Здесь используемые разные impurity в зависимости от self.criterion\n",
    "        \"\"\"\n",
    "        # Ваш код здесь\n",
    "        imputity_func = {\n",
    "            'class_error' : lambda x, y: 1 - np.max(x / y, axis=1, keepdims=True),\n",
    "            'gini' : lambda x, y : 1 - np.sum((x / y)**2, axis=1, keepdims=True),\n",
    "            'entropy' : lambda x, y : -np.sum((x / y) * np.log(x / y), axis=1, keepdims=True)\n",
    "        }\n",
    "        best_gain = -1000\n",
    "        best_feature_id = -1\n",
    "        best_thr = -1\n",
    "            \n",
    "        mid_classes = np.bincount(y, minlength=self.num_class)\n",
    "        mid_total = mid_classes.sum()\n",
    "        if self.criterion == 'class_error':\n",
    "            mid_impurity = 1 - np.max(mid_classes / mid_total)\n",
    "        elif self.criterion == 'gini':\n",
    "            mid_impurity = 1 - np.sum((mid_classes / mid_total)**2)\n",
    "        elif self.criterion == 'entropy':\n",
    "            mid_impurity = 1 - np.sum((mid_classes / mid_total) * np.log(mid_classes / mid_total))\n",
    "        \n",
    "        for f_id in range(x.shape[1]):\n",
    "            f_classes = y.copy()\n",
    "            f_values =  x[:, f_id]\n",
    "            sort_order = np.argsort(f_values)\n",
    "            f_classes = f_classes[sort_order]\n",
    "            f_values = f_values[sort_order]\n",
    "            \n",
    "            border_cnts = None\n",
    "            cur_cnt = np.zeros((self.num_class, ))\n",
    "            thrs = []\n",
    "            for ind in range(f_values.shape[0]):\n",
    "                if ind < 1:\n",
    "                    cur_cnt[f_classes[ind]] += 1\n",
    "                    continue\n",
    "            \n",
    "                if f_classes[ind] != f_classes[ind - 1] and f_values[ind] != f_values[ind - 1]:\n",
    "                    if border_cnts is None:\n",
    "                        border_cnts = cur_cnt[np.newaxis, :].copy()\n",
    "                    else:\n",
    "                        border_cnts = np.r_[border_cnts, cur_cnt[np.newaxis, :]]\n",
    "                    thrs.append((f_values[ind] + f_values[ind - 1]) / 2)\n",
    "                cur_cnt[f_classes[ind]] += 1\n",
    "                \n",
    "            if border_cnts is None:\n",
    "                continue\n",
    "            \n",
    "            left_cnts = border_cnts\n",
    "            left_total = left_cnts.sum(axis=1, keepdims=True)\n",
    "            right_cnts = cur_cnt - left_cnts\n",
    "            right_total = right_cnts.sum(axis=1, keepdims=True)\n",
    "            \n",
    "            left_impurity = imputity_func[self.criterion](left_cnts, left_total)\n",
    "            right_impurity = imputity_func[self.criterion](right_cnts, right_total)\n",
    "            \n",
    "            gains = (mid_impurity - left_total/mid_total * left_impurity - right_total/mid_total * right_impurity).reshape(-1)\n",
    "\n",
    "            max_ind = gains.argmax()\n",
    "            if gains[max_ind] > best_gain:\n",
    "                best_gain = gains[max_ind]\n",
    "                best_feature_id = f_id\n",
    "                best_thr = thrs[max_ind]\n",
    "                \n",
    "        if best_feature_id == -1:\n",
    "            return None, None, None\n",
    "        return best_feature_id, best_thr, best_gain\n",
    "\n",
    "    def __fit_node(self, x, y, node_id, depth):\n",
    "        \"\"\"\n",
    "        Делаем новый узел в дереве\n",
    "        Решаем, терминальный он или нет\n",
    "        Если нет, то строим левый узел  с айди 2 * node_id + 1\n",
    "        И правый узел с  айди 2 * node_id + 2\n",
    "        \"\"\"\n",
    "        # Ваш код здесь\n",
    "#         print(f\"id = {node_id}, samples = {x.shape[0]}, counts = {np.bincount(y, minlength=self.num_class)}\")\n",
    "        if depth > self.max_depth or x.shape[0] < self.min_samples_split or np.unique(y).shape[0] == 1:\n",
    "            \n",
    "            classes = np.bincount(y, minlength=self.num_class)\n",
    "            probs = classes / classes.sum()\n",
    "#             print(f\"LEAF_1: class = {probs.argmax()}, prob = {probs.max()}\")\n",
    "            self.tree[node_id] = (self.LEAF_TYPE, probs.argmax(), probs.max())\n",
    "        else:\n",
    "            \n",
    "            f_id, thr, gain = self.__find_threshold(x, y)\n",
    "            if f_id is None:\n",
    "                classes = np.bincount(y, minlength=self.num_class)\n",
    "                probs = classes / classes.sum()\n",
    "#                 print(f\"LEAF_2: class = {probs.argmax()}, prob = {probs.max()}\")\n",
    "                self.tree[node_id] = (self.LEAF_TYPE, probs.argmax(), probs.max())\n",
    "            else:\n",
    "                self.feature_importance[f_id] += x.shape[0] / self.dataset_len * gain\n",
    "                x_left, x_right, y_left, y_right = self.__div_samples(x, y, f_id, thr)\n",
    "#                 print(f\"NONE_LEAF: feature = {f_id}, thr = {thr}\")\n",
    "                self.tree[node_id] = (self.NON_LEAF_TYPE, f_id, thr)\n",
    "                self.__fit_node(x_left, y_left, 2 * node_id + 1, depth + 1)\n",
    "                self.__fit_node(x_right, y_right, 2 * node_id + 2, depth + 1)\n",
    "    \n",
    "    def fit(self, x, y):\n",
    "        \"\"\"\n",
    "        Рекурсивно строим дерево решений\n",
    "        Начинаем с корня node_id 0\n",
    "        \"\"\"\n",
    "        self.dataset_len = x.shape[0]\n",
    "        self.num_class = np.unique(y).size\n",
    "        self.__fit_node(x, y, 0, 0) \n",
    "        return self\n",
    "        \n",
    "    def __predict_class(self, x, node_id):\n",
    "        \"\"\"\n",
    "        Рекурсивно обходим дерево по всем узлам,\n",
    "        пока не дойдем до терминального\n",
    "        \"\"\"\n",
    "        node = self.tree[node_id]\n",
    "        if node[0] == self.__class__.NON_LEAF_TYPE:\n",
    "            _, feature_id, threshold = node\n",
    "            if x[feature_id] > threshold:\n",
    "                return self.__predict_class(x, 2 * node_id + 2)\n",
    "            else:\n",
    "                return self.__predict_class(x, 2 * node_id + 1)\n",
    "        else:\n",
    "            return node[1]\n",
    "        \n",
    "    def predict(self, X):\n",
    "        \"\"\"\n",
    "        Вызывает predict для всех объектов из матрицы X\n",
    "        \"\"\"\n",
    "        return np.array([self.__predict_class(x, 0) for x in X])\n",
    "    \n",
    "    def fit_predict(self, x_train, y_train, predicted_x):\n",
    "        \n",
    "        self.fit(x_train, y_train)\n",
    "        return self.predict(predicted_x)\n",
    "    \n",
    "    def get_feature_importance(self):\n",
    "        \"\"\"\n",
    "        Возвращает важность признаков\n",
    "        \"\"\"\n",
    "        # Ваш код здесь\n",
    "        f_imps = list(self.feature_importance.items())\n",
    "        f_imps = sorted(f_imps, key=lambda x: x[1], reverse=True)[:10]\n",
    "        return f_imps\n",
    "#         pass"
   ]
  },
  {
   "cell_type": "code",
   "execution_count": 391,
   "metadata": {},
   "outputs": [],
   "source": [
    "my_clf = MyDecisionTreeClassifier(min_samples_split=2)\n",
    "clf = DecisionTreeClassifier(min_samples_split=2)\n",
    "# ty = np.array([3, 3, 0, 2, 1, 0, 0, 0])\n",
    "# tx = np.array([[0.75], [0.7], [0.5], [0.35], [0.3], [0.2], [0.15], [0.1]])\n",
    "# print(tx.shape)\n",
    "# my_clf.num_class = 4\n",
    "# my_clf._find_threshold(tx, ty)"
   ]
  },
  {
   "cell_type": "code",
   "execution_count": 392,
   "metadata": {},
   "outputs": [],
   "source": [
    "wine = load_wine()\n",
    "X_train, X_test, y_train, y_test = train_test_split(wine.data, wine.target, test_size=0.1, stratify=wine.target)"
   ]
  },
  {
   "cell_type": "code",
   "execution_count": 393,
   "metadata": {},
   "outputs": [
    {
     "data": {
      "text/plain": [
       "[Text(167.4, 190.26, 'X[12] <= 755.0\\ngini = 0.658\\nsamples = 160\\nvalue = [53, 64, 43]'),\n",
       " Text(83.7, 135.9, 'X[9] <= 4.85\\ngini = 0.495\\nsamples = 100\\nvalue = [2, 60, 38]'),\n",
       " Text(41.85, 81.53999999999999, 'X[6] <= 0.545\\ngini = 0.176\\nsamples = 63\\nvalue = [2, 57, 4]'),\n",
       " Text(20.925, 27.180000000000007, '\\n  (...)  \\n'),\n",
       " Text(62.775000000000006, 27.180000000000007, '\\n  (...)  \\n'),\n",
       " Text(125.55000000000001, 81.53999999999999, 'X[10] <= 0.91\\ngini = 0.149\\nsamples = 37\\nvalue = [0, 3, 34]'),\n",
       " Text(104.625, 27.180000000000007, '\\n  (...)  \\n'),\n",
       " Text(146.475, 27.180000000000007, '\\n  (...)  \\n'),\n",
       " Text(251.10000000000002, 135.9, 'X[6] <= 2.165\\ngini = 0.266\\nsamples = 60\\nvalue = [51, 4, 5]'),\n",
       " Text(209.25, 81.53999999999999, 'X[9] <= 3.605\\ngini = 0.408\\nsamples = 7\\nvalue = [0, 2, 5]'),\n",
       " Text(188.32500000000002, 27.180000000000007, '\\n  (...)  \\n'),\n",
       " Text(230.175, 27.180000000000007, '\\n  (...)  \\n'),\n",
       " Text(292.95, 81.53999999999999, 'X[4] <= 135.5\\ngini = 0.073\\nsamples = 53\\nvalue = [51, 2, 0]'),\n",
       " Text(272.02500000000003, 27.180000000000007, '\\n  (...)  \\n'),\n",
       " Text(313.875, 27.180000000000007, '\\n  (...)  \\n')]"
      ]
     },
     "execution_count": 393,
     "metadata": {},
     "output_type": "execute_result"
    },
    {
     "data": {
      "image/png": "[encoded data removed]",
      "text/plain": [
       "<Figure size 432x288 with 1 Axes>"
      ]
     },
     "metadata": {
      "needs_background": "light"
     },
     "output_type": "display_data"
    }
   ],
   "source": [
    "clf = clf.fit(X_train, y_train)\n",
    "plot_tree(clf, max_depth = 2, fontsize=10)"
   ]
  },
  {
   "cell_type": "code",
   "execution_count": 394,
   "metadata": {},
   "outputs": [],
   "source": [
    "my_clf = my_clf.fit(X_train, y_train)"
   ]
  },
  {
   "cell_type": "code",
   "execution_count": 395,
   "metadata": {},
   "outputs": [
    {
     "name": "stdout",
     "output_type": "stream",
     "text": [
      "0.8888888888888888\n",
      "0.8888888888888888\n"
     ]
    }
   ],
   "source": [
    "print(accuracy_score(y_pred=clf.predict(X_test), y_true=y_test))\n",
    "print(accuracy_score(y_pred=my_clf.predict(X_test), y_true=y_test))\n",
    " "
   ]
  },
  {
   "cell_type": "markdown",
   "metadata": {},
   "source": [
    "## Ускоряем дерево решений (2 балла)\n",
    "Добиться скорости работы на fit не медленнее чем в 10 раз sklearn на данных wine. \n",
    "Для этого используем numpy."
   ]
  },
  {
   "cell_type": "code",
   "execution_count": 396,
   "metadata": {
    "scrolled": true
   },
   "outputs": [
    {
     "name": "stdout",
     "output_type": "stream",
     "text": [
      "Wall time: 1e+03 µs\n"
     ]
    },
    {
     "data": {
      "text/plain": [
       "DecisionTreeClassifier()"
      ]
     },
     "execution_count": 396,
     "metadata": {},
     "output_type": "execute_result"
    }
   ],
   "source": [
    "%time clf.fit(X_train, y_train)"
   ]
  },
  {
   "cell_type": "code",
   "execution_count": 397,
   "metadata": {},
   "outputs": [
    {
     "name": "stdout",
     "output_type": "stream",
     "text": [
      "Wall time: 35 ms\n"
     ]
    },
    {
     "data": {
      "text/plain": [
       "<__main__.MyDecisionTreeClassifier at 0x1466eac7eb0>"
      ]
     },
     "execution_count": 397,
     "metadata": {},
     "output_type": "execute_result"
    }
   ],
   "source": [
    "%time my_clf.fit(X_train, y_train)"
   ]
  },
  {
   "cell_type": "markdown",
   "metadata": {},
   "source": [
    "Не вышло😐..."
   ]
  },
  {
   "cell_type": "markdown",
   "metadata": {},
   "source": [
    "## Боевое применение (3 балла)\n",
    "\n",
    "На практике Вы познакомились с датасетом Speed Dating Data. В нем каждая пара в быстрых свиданиях характеризуется определенным набором признаков. Задача -- предсказать, произойдет ли матч пары (колонка match). \n",
    "\n",
    "Пример работы с датасетом можете найти в практике пункт 2\n",
    "https://github.com/VVVikulin/ml1.sphere/blob/master/2019-09/lecture_06/pract-trees.ipynb\n",
    "\n",
    "Данные и описания колонок лежат тут\n",
    "https://cloud.mail.ru/public/8nHV/p6J7wY1y1/speed-dating-experiment/"
   ]
  },
  {
   "cell_type": "markdown",
   "metadata": {},
   "source": [
    "Скачайте датасет, обработайте данные, как показано на семинаре или своим собственным способом. Обучите дерево классифкации. В качестве таргета возьмите колонку 'match'. Постарайтесь хорошо обработать признаки, чтобы выбить максимальную точность. Если точность будет близка к случайному гаданию, задание не будет защитано. \n"
   ]
  },
  {
   "cell_type": "code",
   "execution_count": 398,
   "metadata": {},
   "outputs": [],
   "source": [
    "df = pd.read_csv('./speed-dating-experiment/Speed Dating Data.csv', encoding='latin1')"
   ]
  },
  {
   "cell_type": "code",
   "execution_count": 399,
   "metadata": {},
   "outputs": [
    {
     "name": "stdout",
     "output_type": "stream",
     "text": [
      "<class 'pandas.core.frame.DataFrame'>\n",
      "RangeIndex: 8378 entries, 0 to 8377\n",
      "Data columns (total 195 columns):\n",
      " #   Column    Dtype  \n",
      "---  ------    -----  \n",
      " 0   iid       int64  \n",
      " 1   id        float64\n",
      " 2   gender    int64  \n",
      " 3   idg       int64  \n",
      " 4   condtn    int64  \n",
      " 5   wave      int64  \n",
      " 6   round     int64  \n",
      " 7   position  int64  \n",
      " 8   positin1  float64\n",
      " 9   order     int64  \n",
      " 10  partner   int64  \n",
      " 11  pid       float64\n",
      " 12  match     int64  \n",
      " 13  int_corr  float64\n",
      " 14  samerace  int64  \n",
      " 15  age_o     float64\n",
      " 16  race_o    float64\n",
      " 17  pf_o_att  float64\n",
      " 18  pf_o_sin  float64\n",
      " 19  pf_o_int  float64\n",
      " 20  pf_o_fun  float64\n",
      " 21  pf_o_amb  float64\n",
      " 22  pf_o_sha  float64\n",
      " 23  dec_o     int64  \n",
      " 24  attr_o    float64\n",
      " 25  sinc_o    float64\n",
      " 26  intel_o   float64\n",
      " 27  fun_o     float64\n",
      " 28  amb_o     float64\n",
      " 29  shar_o    float64\n",
      " 30  like_o    float64\n",
      " 31  prob_o    float64\n",
      " 32  met_o     float64\n",
      " 33  age       float64\n",
      " 34  field     object \n",
      " 35  field_cd  float64\n",
      " 36  undergra  object \n",
      " 37  mn_sat    object \n",
      " 38  tuition   object \n",
      " 39  race      float64\n",
      " 40  imprace   float64\n",
      " 41  imprelig  float64\n",
      " 42  from      object \n",
      " 43  zipcode   object \n",
      " 44  income    object \n",
      " 45  goal      float64\n",
      " 46  date      float64\n",
      " 47  go_out    float64\n",
      " 48  career    object \n",
      " 49  career_c  float64\n",
      " 50  sports    float64\n",
      " 51  tvsports  float64\n",
      " 52  exercise  float64\n",
      " 53  dining    float64\n",
      " 54  museums   float64\n",
      " 55  art       float64\n",
      " 56  hiking    float64\n",
      " 57  gaming    float64\n",
      " 58  clubbing  float64\n",
      " 59  reading   float64\n",
      " 60  tv        float64\n",
      " 61  theater   float64\n",
      " 62  movies    float64\n",
      " 63  concerts  float64\n",
      " 64  music     float64\n",
      " 65  shopping  float64\n",
      " 66  yoga      float64\n",
      " 67  exphappy  float64\n",
      " 68  expnum    float64\n",
      " 69  attr1_1   float64\n",
      " 70  sinc1_1   float64\n",
      " 71  intel1_1  float64\n",
      " 72  fun1_1    float64\n",
      " 73  amb1_1    float64\n",
      " 74  shar1_1   float64\n",
      " 75  attr4_1   float64\n",
      " 76  sinc4_1   float64\n",
      " 77  intel4_1  float64\n",
      " 78  fun4_1    float64\n",
      " 79  amb4_1    float64\n",
      " 80  shar4_1   float64\n",
      " 81  attr2_1   float64\n",
      " 82  sinc2_1   float64\n",
      " 83  intel2_1  float64\n",
      " 84  fun2_1    float64\n",
      " 85  amb2_1    float64\n",
      " 86  shar2_1   float64\n",
      " 87  attr3_1   float64\n",
      " 88  sinc3_1   float64\n",
      " 89  fun3_1    float64\n",
      " 90  intel3_1  float64\n",
      " 91  amb3_1    float64\n",
      " 92  attr5_1   float64\n",
      " 93  sinc5_1   float64\n",
      " 94  intel5_1  float64\n",
      " 95  fun5_1    float64\n",
      " 96  amb5_1    float64\n",
      " 97  dec       int64  \n",
      " 98  attr      float64\n",
      " 99  sinc      float64\n",
      " 100 intel     float64\n",
      " 101 fun       float64\n",
      " 102 amb       float64\n",
      " 103 shar      float64\n",
      " 104 like      float64\n",
      " 105 prob      float64\n",
      " 106 met       float64\n",
      " 107 match_es  float64\n",
      " 108 attr1_s   float64\n",
      " 109 sinc1_s   float64\n",
      " 110 intel1_s  float64\n",
      " 111 fun1_s    float64\n",
      " 112 amb1_s    float64\n",
      " 113 shar1_s   float64\n",
      " 114 attr3_s   float64\n",
      " 115 sinc3_s   float64\n",
      " 116 intel3_s  float64\n",
      " 117 fun3_s    float64\n",
      " 118 amb3_s    float64\n",
      " 119 satis_2   float64\n",
      " 120 length    float64\n",
      " 121 numdat_2  float64\n",
      " 122 attr7_2   float64\n",
      " 123 sinc7_2   float64\n",
      " 124 intel7_2  float64\n",
      " 125 fun7_2    float64\n",
      " 126 amb7_2    float64\n",
      " 127 shar7_2   float64\n",
      " 128 attr1_2   float64\n",
      " 129 sinc1_2   float64\n",
      " 130 intel1_2  float64\n",
      " 131 fun1_2    float64\n",
      " 132 amb1_2    float64\n",
      " 133 shar1_2   float64\n",
      " 134 attr4_2   float64\n",
      " 135 sinc4_2   float64\n",
      " 136 intel4_2  float64\n",
      " 137 fun4_2    float64\n",
      " 138 amb4_2    float64\n",
      " 139 shar4_2   float64\n",
      " 140 attr2_2   float64\n",
      " 141 sinc2_2   float64\n",
      " 142 intel2_2  float64\n",
      " 143 fun2_2    float64\n",
      " 144 amb2_2    float64\n",
      " 145 shar2_2   float64\n",
      " 146 attr3_2   float64\n",
      " 147 sinc3_2   float64\n",
      " 148 intel3_2  float64\n",
      " 149 fun3_2    float64\n",
      " 150 amb3_2    float64\n",
      " 151 attr5_2   float64\n",
      " 152 sinc5_2   float64\n",
      " 153 intel5_2  float64\n",
      " 154 fun5_2    float64\n",
      " 155 amb5_2    float64\n",
      " 156 you_call  float64\n",
      " 157 them_cal  float64\n",
      " 158 date_3    float64\n",
      " 159 numdat_3  float64\n",
      " 160 num_in_3  float64\n",
      " 161 attr1_3   float64\n",
      " 162 sinc1_3   float64\n",
      " 163 intel1_3  float64\n",
      " 164 fun1_3    float64\n",
      " 165 amb1_3    float64\n",
      " 166 shar1_3   float64\n",
      " 167 attr7_3   float64\n",
      " 168 sinc7_3   float64\n",
      " 169 intel7_3  float64\n",
      " 170 fun7_3    float64\n",
      " 171 amb7_3    float64\n",
      " 172 shar7_3   float64\n",
      " 173 attr4_3   float64\n",
      " 174 sinc4_3   float64\n",
      " 175 intel4_3  float64\n",
      " 176 fun4_3    float64\n",
      " 177 amb4_3    float64\n",
      " 178 shar4_3   float64\n",
      " 179 attr2_3   float64\n",
      " 180 sinc2_3   float64\n",
      " 181 intel2_3  float64\n",
      " 182 fun2_3    float64\n",
      " 183 amb2_3    float64\n",
      " 184 shar2_3   float64\n",
      " 185 attr3_3   float64\n",
      " 186 sinc3_3   float64\n",
      " 187 intel3_3  float64\n",
      " 188 fun3_3    float64\n",
      " 189 amb3_3    float64\n",
      " 190 attr5_3   float64\n",
      " 191 sinc5_3   float64\n",
      " 192 intel5_3  float64\n",
      " 193 fun5_3    float64\n",
      " 194 amb5_3    float64\n",
      "dtypes: float64(174), int64(13), object(8)\n",
      "memory usage: 12.5+ MB\n"
     ]
    }
   ],
   "source": [
    "df.info(verbose=True)"
   ]
  },
  {
   "cell_type": "code",
   "execution_count": 400,
   "metadata": {},
   "outputs": [],
   "source": [
    "# Удаляем полную дичь\n",
    "df = df.iloc[:, :97]"
   ]
  },
  {
   "cell_type": "code",
   "execution_count": 401,
   "metadata": {},
   "outputs": [
    {
     "data": {
      "text/plain": [
       "551"
      ]
     },
     "execution_count": 401,
     "metadata": {},
     "output_type": "execute_result"
    }
   ],
   "source": [
    "df.iid.nunique()"
   ]
  },
  {
   "cell_type": "code",
   "execution_count": 402,
   "metadata": {},
   "outputs": [],
   "source": [
    "df = df.drop(['id'], axis=1)\n",
    "df = df.drop(['idg'], axis=1)"
   ]
  },
  {
   "cell_type": "code",
   "execution_count": 403,
   "metadata": {},
   "outputs": [
    {
     "data": {
      "text/plain": [
       "1    277\n",
       "0    274\n",
       "Name: gender, dtype: int64"
      ]
     },
     "execution_count": 403,
     "metadata": {},
     "output_type": "execute_result"
    }
   ],
   "source": [
    "df.drop_duplicates(subset=['iid']).gender.value_counts()"
   ]
  },
  {
   "cell_type": "code",
   "execution_count": 404,
   "metadata": {},
   "outputs": [],
   "source": [
    "df.drop_duplicates(subset=['iid']).condtn.value_counts()\n",
    "df = df.drop(['condtn'], axis=1)"
   ]
  },
  {
   "cell_type": "code",
   "execution_count": 405,
   "metadata": {},
   "outputs": [
    {
     "data": {
      "text/plain": [
       "array([ 1,  2,  3,  4,  5,  6,  7,  8,  9, 10, 11, 12, 13, 14, 15, 16, 17,\n",
       "       18, 19, 20, 21], dtype=int64)"
      ]
     },
     "execution_count": 405,
     "metadata": {},
     "output_type": "execute_result"
    }
   ],
   "source": [
    "df.wave.unique()"
   ]
  },
  {
   "cell_type": "code",
   "execution_count": 406,
   "metadata": {},
   "outputs": [],
   "source": [
    "df = df.drop(['position', 'positin1'], axis=1)"
   ]
  },
  {
   "cell_type": "code",
   "execution_count": 407,
   "metadata": {},
   "outputs": [],
   "source": [
    "df = df.drop(['order'], axis=1)"
   ]
  },
  {
   "cell_type": "code",
   "execution_count": 408,
   "metadata": {},
   "outputs": [],
   "source": [
    "# Что такое pf_o_sin, этого даже в описании нет...\n",
    "df = df.drop(['age_o', 'race_o', 'pf_o_att', \n",
    "              'pf_o_sin', 'pf_o_int',\n",
    "              'pf_o_fun', 'pf_o_amb', 'pf_o_sha',\n",
    "              'dec_o', 'attr_o', 'sinc_o', 'intel_o', 'fun_o',\n",
    "              'amb_o', 'shar_o', 'like_o', 'prob_o','met_o'], \n",
    "             axis=1)"
   ]
  },
  {
   "cell_type": "code",
   "execution_count": 409,
   "metadata": {},
   "outputs": [
    {
     "data": {
      "image/png": "[encoded data removed]",
      "text/plain": [
       "<Figure size 432x288 with 1 Axes>"
      ]
     },
     "metadata": {
      "needs_background": "light"
     },
     "output_type": "display_data"
    }
   ],
   "source": [
    "df.drop_duplicates(subset=['iid']).age.hist(bins=20)\n",
    "df.drop_duplicates('iid').age.isnull().sum()\n",
    "df = df.dropna(subset=['age'])"
   ]
  },
  {
   "cell_type": "code",
   "execution_count": 410,
   "metadata": {},
   "outputs": [],
   "source": [
    "df.loc[:, 'field_cd'] = df.loc[:, 'field_cd'].fillna(19)\n",
    "df = df.drop(['field'], axis=1)"
   ]
  },
  {
   "cell_type": "code",
   "execution_count": 411,
   "metadata": {},
   "outputs": [
    {
     "data": {
      "text/plain": [
       "0        1.0\n",
       "1        1.0\n",
       "2        1.0\n",
       "3        1.0\n",
       "4        1.0\n",
       "        ... \n",
       "8373    18.0\n",
       "8374    18.0\n",
       "8375    18.0\n",
       "8376    18.0\n",
       "8377    18.0\n",
       "Name: field_cd, Length: 8283, dtype: float64"
      ]
     },
     "execution_count": 411,
     "metadata": {},
     "output_type": "execute_result"
    }
   ],
   "source": [
    "df['field_cd']"
   ]
  },
  {
   "cell_type": "code",
   "execution_count": 412,
   "metadata": {},
   "outputs": [
    {
     "data": {
      "text/html": [
       "<div>\n",
       "<style scoped>\n",
       "    .dataframe tbody tr th:only-of-type {\n",
       "        vertical-align: middle;\n",
       "    }\n",
       "\n",
       "    .dataframe tbody tr th {\n",
       "        vertical-align: top;\n",
       "    }\n",
       "\n",
       "    .dataframe thead th {\n",
       "        text-align: right;\n",
       "    }\n",
       "</style>\n",
       "<table border=\"1\" class=\"dataframe\">\n",
       "  <thead>\n",
       "    <tr style=\"text-align: right;\">\n",
       "      <th></th>\n",
       "      <th>iid</th>\n",
       "      <th>gender</th>\n",
       "      <th>wave</th>\n",
       "      <th>round</th>\n",
       "      <th>partner</th>\n",
       "      <th>pid</th>\n",
       "      <th>match</th>\n",
       "      <th>int_corr</th>\n",
       "      <th>samerace</th>\n",
       "      <th>age</th>\n",
       "      <th>...</th>\n",
       "      <th>field_cd_10.0</th>\n",
       "      <th>field_cd_11.0</th>\n",
       "      <th>field_cd_12.0</th>\n",
       "      <th>field_cd_13.0</th>\n",
       "      <th>field_cd_14.0</th>\n",
       "      <th>field_cd_15.0</th>\n",
       "      <th>field_cd_16.0</th>\n",
       "      <th>field_cd_17.0</th>\n",
       "      <th>field_cd_18.0</th>\n",
       "      <th>field_cd_19.0</th>\n",
       "    </tr>\n",
       "  </thead>\n",
       "  <tbody>\n",
       "    <tr>\n",
       "      <th>0</th>\n",
       "      <td>1</td>\n",
       "      <td>0</td>\n",
       "      <td>1</td>\n",
       "      <td>10</td>\n",
       "      <td>1</td>\n",
       "      <td>11.0</td>\n",
       "      <td>0</td>\n",
       "      <td>0.14</td>\n",
       "      <td>0</td>\n",
       "      <td>21.0</td>\n",
       "      <td>...</td>\n",
       "      <td>0</td>\n",
       "      <td>0</td>\n",
       "      <td>0</td>\n",
       "      <td>0</td>\n",
       "      <td>0</td>\n",
       "      <td>0</td>\n",
       "      <td>0</td>\n",
       "      <td>0</td>\n",
       "      <td>0</td>\n",
       "      <td>0</td>\n",
       "    </tr>\n",
       "    <tr>\n",
       "      <th>1</th>\n",
       "      <td>1</td>\n",
       "      <td>0</td>\n",
       "      <td>1</td>\n",
       "      <td>10</td>\n",
       "      <td>2</td>\n",
       "      <td>12.0</td>\n",
       "      <td>0</td>\n",
       "      <td>0.54</td>\n",
       "      <td>0</td>\n",
       "      <td>21.0</td>\n",
       "      <td>...</td>\n",
       "      <td>0</td>\n",
       "      <td>0</td>\n",
       "      <td>0</td>\n",
       "      <td>0</td>\n",
       "      <td>0</td>\n",
       "      <td>0</td>\n",
       "      <td>0</td>\n",
       "      <td>0</td>\n",
       "      <td>0</td>\n",
       "      <td>0</td>\n",
       "    </tr>\n",
       "    <tr>\n",
       "      <th>2</th>\n",
       "      <td>1</td>\n",
       "      <td>0</td>\n",
       "      <td>1</td>\n",
       "      <td>10</td>\n",
       "      <td>3</td>\n",
       "      <td>13.0</td>\n",
       "      <td>1</td>\n",
       "      <td>0.16</td>\n",
       "      <td>1</td>\n",
       "      <td>21.0</td>\n",
       "      <td>...</td>\n",
       "      <td>0</td>\n",
       "      <td>0</td>\n",
       "      <td>0</td>\n",
       "      <td>0</td>\n",
       "      <td>0</td>\n",
       "      <td>0</td>\n",
       "      <td>0</td>\n",
       "      <td>0</td>\n",
       "      <td>0</td>\n",
       "      <td>0</td>\n",
       "    </tr>\n",
       "    <tr>\n",
       "      <th>3</th>\n",
       "      <td>1</td>\n",
       "      <td>0</td>\n",
       "      <td>1</td>\n",
       "      <td>10</td>\n",
       "      <td>4</td>\n",
       "      <td>14.0</td>\n",
       "      <td>1</td>\n",
       "      <td>0.61</td>\n",
       "      <td>0</td>\n",
       "      <td>21.0</td>\n",
       "      <td>...</td>\n",
       "      <td>0</td>\n",
       "      <td>0</td>\n",
       "      <td>0</td>\n",
       "      <td>0</td>\n",
       "      <td>0</td>\n",
       "      <td>0</td>\n",
       "      <td>0</td>\n",
       "      <td>0</td>\n",
       "      <td>0</td>\n",
       "      <td>0</td>\n",
       "    </tr>\n",
       "    <tr>\n",
       "      <th>4</th>\n",
       "      <td>1</td>\n",
       "      <td>0</td>\n",
       "      <td>1</td>\n",
       "      <td>10</td>\n",
       "      <td>5</td>\n",
       "      <td>15.0</td>\n",
       "      <td>1</td>\n",
       "      <td>0.21</td>\n",
       "      <td>0</td>\n",
       "      <td>21.0</td>\n",
       "      <td>...</td>\n",
       "      <td>0</td>\n",
       "      <td>0</td>\n",
       "      <td>0</td>\n",
       "      <td>0</td>\n",
       "      <td>0</td>\n",
       "      <td>0</td>\n",
       "      <td>0</td>\n",
       "      <td>0</td>\n",
       "      <td>0</td>\n",
       "      <td>0</td>\n",
       "    </tr>\n",
       "  </tbody>\n",
       "</table>\n",
       "<p>5 rows × 90 columns</p>\n",
       "</div>"
      ],
      "text/plain": [
       "   iid  gender  wave  round  partner   pid  match  int_corr  samerace   age  \\\n",
       "0    1       0     1     10        1  11.0      0      0.14         0  21.0   \n",
       "1    1       0     1     10        2  12.0      0      0.54         0  21.0   \n",
       "2    1       0     1     10        3  13.0      1      0.16         1  21.0   \n",
       "3    1       0     1     10        4  14.0      1      0.61         0  21.0   \n",
       "4    1       0     1     10        5  15.0      1      0.21         0  21.0   \n",
       "\n",
       "   ... field_cd_10.0 field_cd_11.0 field_cd_12.0  field_cd_13.0  \\\n",
       "0  ...             0             0             0              0   \n",
       "1  ...             0             0             0              0   \n",
       "2  ...             0             0             0              0   \n",
       "3  ...             0             0             0              0   \n",
       "4  ...             0             0             0              0   \n",
       "\n",
       "   field_cd_14.0  field_cd_15.0 field_cd_16.0 field_cd_17.0 field_cd_18.0  \\\n",
       "0              0              0             0             0             0   \n",
       "1              0              0             0             0             0   \n",
       "2              0              0             0             0             0   \n",
       "3              0              0             0             0             0   \n",
       "4              0              0             0             0             0   \n",
       "\n",
       "   field_cd_19.0  \n",
       "0              0  \n",
       "1              0  \n",
       "2              0  \n",
       "3              0  \n",
       "4              0  \n",
       "\n",
       "[5 rows x 90 columns]"
      ]
     },
     "execution_count": 412,
     "metadata": {},
     "output_type": "execute_result"
    }
   ],
   "source": [
    "df = pd.concat([df.drop(['field_cd'], axis=1), pd.get_dummies(df['field_cd'], prefix='field_cd')], axis=1)\n",
    "df.head()"
   ]
  },
  {
   "cell_type": "code",
   "execution_count": 413,
   "metadata": {},
   "outputs": [],
   "source": [
    "df = df.drop(['undergra'], axis=1)"
   ]
  },
  {
   "cell_type": "code",
   "execution_count": 414,
   "metadata": {},
   "outputs": [],
   "source": [
    "# Дропай дропай, мы же богатые, ещё найдем признаков\n",
    "df = df.drop(['mn_sat', 'tuition'], axis=1)\n",
    "\n",
    "#Сама раса нам не нужна, потому что дальше мы будем смотреть, насколько важно совпадение.\n",
    "df = df.drop(['race'], axis=1)"
   ]
  },
  {
   "cell_type": "code",
   "execution_count": 415,
   "metadata": {},
   "outputs": [
    {
     "data": {
      "text/plain": [
       "<matplotlib.axes._subplots.AxesSubplot at 0x1467000b550>"
      ]
     },
     "execution_count": 415,
     "metadata": {},
     "output_type": "execute_result"
    },
    {
     "data": {
      "image/png": "[encoded data removed]",
      "text/plain": [
       "<Figure size 432x288 with 1 Axes>"
      ]
     },
     "metadata": {
      "needs_background": "light"
     },
     "output_type": "display_data"
    }
   ],
   "source": [
    "df.drop_duplicates('iid').imprace.dropna().hist()"
   ]
  },
  {
   "cell_type": "code",
   "execution_count": 416,
   "metadata": {},
   "outputs": [
    {
     "data": {
      "text/plain": [
       "<matplotlib.axes._subplots.AxesSubplot at 0x14673a67ee0>"
      ]
     },
     "execution_count": 416,
     "metadata": {},
     "output_type": "execute_result"
    },
    {
     "data": {
      "image/png": "[encoded data removed]",
      "text/plain": [
       "<Figure size 432x288 with 1 Axes>"
      ]
     },
     "metadata": {
      "needs_background": "light"
     },
     "output_type": "display_data"
    }
   ],
   "source": [
    "df.drop_duplicates('iid').imprelig.dropna().hist()"
   ]
  },
  {
   "cell_type": "code",
   "execution_count": 417,
   "metadata": {},
   "outputs": [],
   "source": [
    "# Оставим как есть, добрые признаки\n",
    "df = df.dropna(subset=['imprelig', 'imprace'])"
   ]
  },
  {
   "cell_type": "code",
   "execution_count": 418,
   "metadata": {},
   "outputs": [],
   "source": [
    "df = df.drop(['from', 'zipcode'], axis=1)"
   ]
  },
  {
   "cell_type": "code",
   "execution_count": 419,
   "metadata": {},
   "outputs": [],
   "source": [
    "df = df.drop(['income'], axis=1)"
   ]
  },
  {
   "cell_type": "code",
   "execution_count": 420,
   "metadata": {},
   "outputs": [],
   "source": [
    "# goal можно оставить как есть, думаю будет работать неплохо.\n",
    "df = df.dropna(subset=['goal'])\n",
    "# go out и date удалим, кажется они какие-то бесполезные\n",
    "df = df.drop(['go_out', 'date'], axis=1)"
   ]
  },
  {
   "cell_type": "code",
   "execution_count": 421,
   "metadata": {},
   "outputs": [
    {
     "data": {
      "text/html": [
       "<div>\n",
       "<style scoped>\n",
       "    .dataframe tbody tr th:only-of-type {\n",
       "        vertical-align: middle;\n",
       "    }\n",
       "\n",
       "    .dataframe tbody tr th {\n",
       "        vertical-align: top;\n",
       "    }\n",
       "\n",
       "    .dataframe thead th {\n",
       "        text-align: right;\n",
       "    }\n",
       "</style>\n",
       "<table border=\"1\" class=\"dataframe\">\n",
       "  <thead>\n",
       "    <tr style=\"text-align: right;\">\n",
       "      <th></th>\n",
       "      <th>iid</th>\n",
       "      <th>gender</th>\n",
       "      <th>wave</th>\n",
       "      <th>round</th>\n",
       "      <th>partner</th>\n",
       "      <th>pid</th>\n",
       "      <th>match</th>\n",
       "      <th>int_corr</th>\n",
       "      <th>samerace</th>\n",
       "      <th>age</th>\n",
       "      <th>...</th>\n",
       "      <th>career_c_8.0</th>\n",
       "      <th>career_c_9.0</th>\n",
       "      <th>career_c_10.0</th>\n",
       "      <th>career_c_11.0</th>\n",
       "      <th>career_c_12.0</th>\n",
       "      <th>career_c_13.0</th>\n",
       "      <th>career_c_14.0</th>\n",
       "      <th>career_c_15.0</th>\n",
       "      <th>career_c_16.0</th>\n",
       "      <th>career_c_17.0</th>\n",
       "    </tr>\n",
       "  </thead>\n",
       "  <tbody>\n",
       "    <tr>\n",
       "      <th>0</th>\n",
       "      <td>1</td>\n",
       "      <td>0</td>\n",
       "      <td>1</td>\n",
       "      <td>10</td>\n",
       "      <td>1</td>\n",
       "      <td>11.0</td>\n",
       "      <td>0</td>\n",
       "      <td>0.14</td>\n",
       "      <td>0</td>\n",
       "      <td>21.0</td>\n",
       "      <td>...</td>\n",
       "      <td>0</td>\n",
       "      <td>0</td>\n",
       "      <td>0</td>\n",
       "      <td>0</td>\n",
       "      <td>0</td>\n",
       "      <td>0</td>\n",
       "      <td>0</td>\n",
       "      <td>0</td>\n",
       "      <td>0</td>\n",
       "      <td>0</td>\n",
       "    </tr>\n",
       "    <tr>\n",
       "      <th>1</th>\n",
       "      <td>1</td>\n",
       "      <td>0</td>\n",
       "      <td>1</td>\n",
       "      <td>10</td>\n",
       "      <td>2</td>\n",
       "      <td>12.0</td>\n",
       "      <td>0</td>\n",
       "      <td>0.54</td>\n",
       "      <td>0</td>\n",
       "      <td>21.0</td>\n",
       "      <td>...</td>\n",
       "      <td>0</td>\n",
       "      <td>0</td>\n",
       "      <td>0</td>\n",
       "      <td>0</td>\n",
       "      <td>0</td>\n",
       "      <td>0</td>\n",
       "      <td>0</td>\n",
       "      <td>0</td>\n",
       "      <td>0</td>\n",
       "      <td>0</td>\n",
       "    </tr>\n",
       "    <tr>\n",
       "      <th>2</th>\n",
       "      <td>1</td>\n",
       "      <td>0</td>\n",
       "      <td>1</td>\n",
       "      <td>10</td>\n",
       "      <td>3</td>\n",
       "      <td>13.0</td>\n",
       "      <td>1</td>\n",
       "      <td>0.16</td>\n",
       "      <td>1</td>\n",
       "      <td>21.0</td>\n",
       "      <td>...</td>\n",
       "      <td>0</td>\n",
       "      <td>0</td>\n",
       "      <td>0</td>\n",
       "      <td>0</td>\n",
       "      <td>0</td>\n",
       "      <td>0</td>\n",
       "      <td>0</td>\n",
       "      <td>0</td>\n",
       "      <td>0</td>\n",
       "      <td>0</td>\n",
       "    </tr>\n",
       "    <tr>\n",
       "      <th>3</th>\n",
       "      <td>1</td>\n",
       "      <td>0</td>\n",
       "      <td>1</td>\n",
       "      <td>10</td>\n",
       "      <td>4</td>\n",
       "      <td>14.0</td>\n",
       "      <td>1</td>\n",
       "      <td>0.61</td>\n",
       "      <td>0</td>\n",
       "      <td>21.0</td>\n",
       "      <td>...</td>\n",
       "      <td>0</td>\n",
       "      <td>0</td>\n",
       "      <td>0</td>\n",
       "      <td>0</td>\n",
       "      <td>0</td>\n",
       "      <td>0</td>\n",
       "      <td>0</td>\n",
       "      <td>0</td>\n",
       "      <td>0</td>\n",
       "      <td>0</td>\n",
       "    </tr>\n",
       "    <tr>\n",
       "      <th>4</th>\n",
       "      <td>1</td>\n",
       "      <td>0</td>\n",
       "      <td>1</td>\n",
       "      <td>10</td>\n",
       "      <td>5</td>\n",
       "      <td>15.0</td>\n",
       "      <td>1</td>\n",
       "      <td>0.21</td>\n",
       "      <td>0</td>\n",
       "      <td>21.0</td>\n",
       "      <td>...</td>\n",
       "      <td>0</td>\n",
       "      <td>0</td>\n",
       "      <td>0</td>\n",
       "      <td>0</td>\n",
       "      <td>0</td>\n",
       "      <td>0</td>\n",
       "      <td>0</td>\n",
       "      <td>0</td>\n",
       "      <td>0</td>\n",
       "      <td>0</td>\n",
       "    </tr>\n",
       "  </tbody>\n",
       "</table>\n",
       "<p>5 rows × 96 columns</p>\n",
       "</div>"
      ],
      "text/plain": [
       "   iid  gender  wave  round  partner   pid  match  int_corr  samerace   age  \\\n",
       "0    1       0     1     10        1  11.0      0      0.14         0  21.0   \n",
       "1    1       0     1     10        2  12.0      0      0.54         0  21.0   \n",
       "2    1       0     1     10        3  13.0      1      0.16         1  21.0   \n",
       "3    1       0     1     10        4  14.0      1      0.61         0  21.0   \n",
       "4    1       0     1     10        5  15.0      1      0.21         0  21.0   \n",
       "\n",
       "   ...  career_c_8.0  career_c_9.0  career_c_10.0  career_c_11.0  \\\n",
       "0  ...             0             0              0              0   \n",
       "1  ...             0             0              0              0   \n",
       "2  ...             0             0              0              0   \n",
       "3  ...             0             0              0              0   \n",
       "4  ...             0             0              0              0   \n",
       "\n",
       "   career_c_12.0  career_c_13.0  career_c_14.0  career_c_15.0  career_c_16.0  \\\n",
       "0              0              0              0              0              0   \n",
       "1              0              0              0              0              0   \n",
       "2              0              0              0              0              0   \n",
       "3              0              0              0              0              0   \n",
       "4              0              0              0              0              0   \n",
       "\n",
       "   career_c_17.0  \n",
       "0              0  \n",
       "1              0  \n",
       "2              0  \n",
       "3              0  \n",
       "4              0  \n",
       "\n",
       "[5 rows x 96 columns]"
      ]
     },
     "execution_count": 421,
     "metadata": {},
     "output_type": "execute_result"
    }
   ],
   "source": [
    "df = df.drop(['career'], axis=1)\n",
    "df = pd.concat([df.drop(['career_c'], axis=1), pd.get_dummies(df['career_c'], prefix='career_c')], axis=1)\n",
    "df.head()"
   ]
  },
  {
   "cell_type": "code",
   "execution_count": 422,
   "metadata": {},
   "outputs": [],
   "source": [
    "df = df.drop(['sports','tvsports','exercise','dining','museums','art','hiking','gaming',\n",
    "       'clubbing','reading','tv','theater','movies','concerts','music','shopping','yoga'], axis=1)"
   ]
  },
  {
   "cell_type": "code",
   "execution_count": 423,
   "metadata": {},
   "outputs": [],
   "source": [
    "# Какие-то бесполезные признаки.\n",
    "df = df.drop(['exphappy', 'expnum'], axis=1)"
   ]
  },
  {
   "cell_type": "code",
   "execution_count": 424,
   "metadata": {},
   "outputs": [],
   "source": [
    "feat = ['iid', 'wave', 'attr1_1', 'sinc1_1', 'intel1_1', 'fun1_1', 'amb1_1', 'shar1_1']"
   ]
  },
  {
   "cell_type": "code",
   "execution_count": 425,
   "metadata": {},
   "outputs": [],
   "source": [
    "temp = df.drop_duplicates(subset=['iid', 'wave']).loc[:, feat]\n",
    "temp.loc[:, 'totalsum'] = temp.iloc[:, 2:].sum(axis=1)"
   ]
  },
  {
   "cell_type": "code",
   "execution_count": 426,
   "metadata": {},
   "outputs": [],
   "source": [
    "df.loc[:, 'temp_totalsum'] = df.loc[:, ['attr1_1', 'sinc1_1', 'intel1_1', 'fun1_1', 'amb1_1', 'shar1_1']].sum(axis=1)"
   ]
  },
  {
   "cell_type": "code",
   "execution_count": 427,
   "metadata": {},
   "outputs": [],
   "source": [
    "\n",
    "df.loc[:, ['attr1_1', 'sinc1_1', 'intel1_1', 'fun1_1', 'amb1_1', 'shar1_1']] = \\\n",
    "(df.loc[:, ['attr1_1', 'sinc1_1', 'intel1_1', 'fun1_1', 'amb1_1', 'shar1_1']].T/df.loc[:, 'temp_totalsum'].T).T * 100"
   ]
  },
  {
   "cell_type": "code",
   "execution_count": 428,
   "metadata": {},
   "outputs": [],
   "source": [
    "feat = ['iid', 'wave', 'attr2_1', 'sinc2_1', 'intel2_1', 'fun2_1', 'amb2_1', 'shar2_1']\n",
    "temp = df.drop_duplicates(subset=['iid', 'wave']).loc[:, feat]\n",
    "temp.loc[:, 'totalsum'] = temp.iloc[:, 2:].sum(axis=1)\n",
    "df.loc[:, 'temp_totalsum'] = df.loc[:, ['attr2_1', 'sinc2_1', 'intel2_1', 'fun2_1', 'amb2_1', 'shar2_1']].sum(axis=1)\n",
    "df.loc[:, ['attr2_1', 'sinc2_1', 'intel2_1', 'fun2_1', 'amb2_1', 'shar2_1']] = \\\n",
    "(df.loc[:, ['attr2_1', 'sinc2_1', 'intel2_1', 'fun2_1', 'amb2_1', 'shar2_1']].T/df.loc[:, 'temp_totalsum'].T).T * 100\n",
    "\n",
    "df = df.drop(['temp_totalsum'], axis=1)"
   ]
  },
  {
   "cell_type": "code",
   "execution_count": 429,
   "metadata": {},
   "outputs": [],
   "source": [
    "for i in [3, 4, 5]:\n",
    "    feat = ['attr{}_1'.format(i), 'sinc{}_1'.format(i), \n",
    "            'intel{}_1'.format(i), 'fun{}_1'.format(i), \n",
    "            'amb{}_1'.format(i), 'shar{}_1'.format(i)]\n",
    "    \n",
    "    if i != 4:\n",
    "        feat.remove('shar{}_1'.format(i))\n",
    "    \n",
    "    df = df.drop(feat, axis=1)"
   ]
  },
  {
   "cell_type": "code",
   "execution_count": 430,
   "metadata": {},
   "outputs": [],
   "source": [
    "df_male = df.query('gender == 1').drop_duplicates(subset=['iid', 'pid'])\\\n",
    "                                 .drop(['gender'], axis=1)\\\n",
    "                                 .dropna()\n",
    "df_female = df.query('gender == 0').drop_duplicates(subset=['iid'])\\\n",
    "                                   .drop(['gender', 'match', 'int_corr', 'samerace'], axis=1)\\\n",
    "                                   .dropna()\n",
    "        \n",
    "df_female.columns = df_female.columns + '_f'"
   ]
  },
  {
   "cell_type": "code",
   "execution_count": 431,
   "metadata": {},
   "outputs": [
    {
     "name": "stdout",
     "output_type": "stream",
     "text": [
      "(4087, 60)\n",
      "100       1\n",
      "101       2\n",
      "102       3\n",
      "103       4\n",
      "104       5\n",
      "       ... \n",
      "8373    526\n",
      "8374    527\n",
      "8375    528\n",
      "8376    529\n",
      "8377    530\n",
      "Name: pid, Length: 4087, dtype: int32\n"
     ]
    },
    {
     "data": {
      "text/html": [
       "<div>\n",
       "<style scoped>\n",
       "    .dataframe tbody tr th:only-of-type {\n",
       "        vertical-align: middle;\n",
       "    }\n",
       "\n",
       "    .dataframe tbody tr th {\n",
       "        vertical-align: top;\n",
       "    }\n",
       "\n",
       "    .dataframe thead th {\n",
       "        text-align: right;\n",
       "    }\n",
       "</style>\n",
       "<table border=\"1\" class=\"dataframe\">\n",
       "  <thead>\n",
       "    <tr style=\"text-align: right;\">\n",
       "      <th></th>\n",
       "      <th>iid</th>\n",
       "      <th>wave</th>\n",
       "      <th>round</th>\n",
       "      <th>partner</th>\n",
       "      <th>pid</th>\n",
       "      <th>match</th>\n",
       "      <th>int_corr</th>\n",
       "      <th>samerace</th>\n",
       "      <th>age</th>\n",
       "      <th>imprace</th>\n",
       "      <th>...</th>\n",
       "      <th>career_c_8.0</th>\n",
       "      <th>career_c_9.0</th>\n",
       "      <th>career_c_10.0</th>\n",
       "      <th>career_c_11.0</th>\n",
       "      <th>career_c_12.0</th>\n",
       "      <th>career_c_13.0</th>\n",
       "      <th>career_c_14.0</th>\n",
       "      <th>career_c_15.0</th>\n",
       "      <th>career_c_16.0</th>\n",
       "      <th>career_c_17.0</th>\n",
       "    </tr>\n",
       "  </thead>\n",
       "  <tbody>\n",
       "    <tr>\n",
       "      <th>100</th>\n",
       "      <td>11</td>\n",
       "      <td>1</td>\n",
       "      <td>10</td>\n",
       "      <td>1</td>\n",
       "      <td>1</td>\n",
       "      <td>0</td>\n",
       "      <td>0.14</td>\n",
       "      <td>0</td>\n",
       "      <td>27.0</td>\n",
       "      <td>7.0</td>\n",
       "      <td>...</td>\n",
       "      <td>0</td>\n",
       "      <td>0</td>\n",
       "      <td>0</td>\n",
       "      <td>0</td>\n",
       "      <td>0</td>\n",
       "      <td>0</td>\n",
       "      <td>0</td>\n",
       "      <td>0</td>\n",
       "      <td>0</td>\n",
       "      <td>0</td>\n",
       "    </tr>\n",
       "    <tr>\n",
       "      <th>101</th>\n",
       "      <td>11</td>\n",
       "      <td>1</td>\n",
       "      <td>10</td>\n",
       "      <td>2</td>\n",
       "      <td>2</td>\n",
       "      <td>0</td>\n",
       "      <td>0.29</td>\n",
       "      <td>1</td>\n",
       "      <td>27.0</td>\n",
       "      <td>7.0</td>\n",
       "      <td>...</td>\n",
       "      <td>0</td>\n",
       "      <td>0</td>\n",
       "      <td>0</td>\n",
       "      <td>0</td>\n",
       "      <td>0</td>\n",
       "      <td>0</td>\n",
       "      <td>0</td>\n",
       "      <td>0</td>\n",
       "      <td>0</td>\n",
       "      <td>0</td>\n",
       "    </tr>\n",
       "    <tr>\n",
       "      <th>102</th>\n",
       "      <td>11</td>\n",
       "      <td>1</td>\n",
       "      <td>10</td>\n",
       "      <td>3</td>\n",
       "      <td>3</td>\n",
       "      <td>0</td>\n",
       "      <td>-0.24</td>\n",
       "      <td>1</td>\n",
       "      <td>27.0</td>\n",
       "      <td>7.0</td>\n",
       "      <td>...</td>\n",
       "      <td>0</td>\n",
       "      <td>0</td>\n",
       "      <td>0</td>\n",
       "      <td>0</td>\n",
       "      <td>0</td>\n",
       "      <td>0</td>\n",
       "      <td>0</td>\n",
       "      <td>0</td>\n",
       "      <td>0</td>\n",
       "      <td>0</td>\n",
       "    </tr>\n",
       "    <tr>\n",
       "      <th>103</th>\n",
       "      <td>11</td>\n",
       "      <td>1</td>\n",
       "      <td>10</td>\n",
       "      <td>4</td>\n",
       "      <td>4</td>\n",
       "      <td>0</td>\n",
       "      <td>-0.18</td>\n",
       "      <td>1</td>\n",
       "      <td>27.0</td>\n",
       "      <td>7.0</td>\n",
       "      <td>...</td>\n",
       "      <td>0</td>\n",
       "      <td>0</td>\n",
       "      <td>0</td>\n",
       "      <td>0</td>\n",
       "      <td>0</td>\n",
       "      <td>0</td>\n",
       "      <td>0</td>\n",
       "      <td>0</td>\n",
       "      <td>0</td>\n",
       "      <td>0</td>\n",
       "    </tr>\n",
       "    <tr>\n",
       "      <th>104</th>\n",
       "      <td>11</td>\n",
       "      <td>1</td>\n",
       "      <td>10</td>\n",
       "      <td>5</td>\n",
       "      <td>5</td>\n",
       "      <td>0</td>\n",
       "      <td>-0.43</td>\n",
       "      <td>1</td>\n",
       "      <td>27.0</td>\n",
       "      <td>7.0</td>\n",
       "      <td>...</td>\n",
       "      <td>0</td>\n",
       "      <td>0</td>\n",
       "      <td>0</td>\n",
       "      <td>0</td>\n",
       "      <td>0</td>\n",
       "      <td>0</td>\n",
       "      <td>0</td>\n",
       "      <td>0</td>\n",
       "      <td>0</td>\n",
       "      <td>0</td>\n",
       "    </tr>\n",
       "  </tbody>\n",
       "</table>\n",
       "<p>5 rows × 60 columns</p>\n",
       "</div>"
      ],
      "text/plain": [
       "     iid  wave  round  partner  pid  match  int_corr  samerace   age  imprace  \\\n",
       "100   11     1     10        1    1      0      0.14         0  27.0      7.0   \n",
       "101   11     1     10        2    2      0      0.29         1  27.0      7.0   \n",
       "102   11     1     10        3    3      0     -0.24         1  27.0      7.0   \n",
       "103   11     1     10        4    4      0     -0.18         1  27.0      7.0   \n",
       "104   11     1     10        5    5      0     -0.43         1  27.0      7.0   \n",
       "\n",
       "     ...  career_c_8.0  career_c_9.0  career_c_10.0  career_c_11.0  \\\n",
       "100  ...             0             0              0              0   \n",
       "101  ...             0             0              0              0   \n",
       "102  ...             0             0              0              0   \n",
       "103  ...             0             0              0              0   \n",
       "104  ...             0             0              0              0   \n",
       "\n",
       "     career_c_12.0  career_c_13.0  career_c_14.0  career_c_15.0  \\\n",
       "100              0              0              0              0   \n",
       "101              0              0              0              0   \n",
       "102              0              0              0              0   \n",
       "103              0              0              0              0   \n",
       "104              0              0              0              0   \n",
       "\n",
       "     career_c_16.0  career_c_17.0  \n",
       "100              0              0  \n",
       "101              0              0  \n",
       "102              0              0  \n",
       "103              0              0  \n",
       "104              0              0  \n",
       "\n",
       "[5 rows x 60 columns]"
      ]
     },
     "execution_count": 431,
     "metadata": {},
     "output_type": "execute_result"
    }
   ],
   "source": [
    "df_male['pid'] = df_male['pid'].astype(int)\n",
    "print(df_male.shape)\n",
    "print(df_male['pid'])\n",
    "df_male.head()"
   ]
  },
  {
   "cell_type": "code",
   "execution_count": 432,
   "metadata": {},
   "outputs": [
    {
     "name": "stdout",
     "output_type": "stream",
     "text": [
      "(267, 57)\n",
      "0         1\n",
      "10        2\n",
      "20        3\n",
      "30        4\n",
      "40        5\n",
      "       ... \n",
      "7762    525\n",
      "7784    526\n",
      "7806    527\n",
      "7850    529\n",
      "7872    530\n",
      "Name: iid_f, Length: 267, dtype: int64\n"
     ]
    },
    {
     "data": {
      "text/html": [
       "<div>\n",
       "<style scoped>\n",
       "    .dataframe tbody tr th:only-of-type {\n",
       "        vertical-align: middle;\n",
       "    }\n",
       "\n",
       "    .dataframe tbody tr th {\n",
       "        vertical-align: top;\n",
       "    }\n",
       "\n",
       "    .dataframe thead th {\n",
       "        text-align: right;\n",
       "    }\n",
       "</style>\n",
       "<table border=\"1\" class=\"dataframe\">\n",
       "  <thead>\n",
       "    <tr style=\"text-align: right;\">\n",
       "      <th></th>\n",
       "      <th>iid_f</th>\n",
       "      <th>wave_f</th>\n",
       "      <th>round_f</th>\n",
       "      <th>partner_f</th>\n",
       "      <th>pid_f</th>\n",
       "      <th>age_f</th>\n",
       "      <th>imprace_f</th>\n",
       "      <th>imprelig_f</th>\n",
       "      <th>goal_f</th>\n",
       "      <th>attr1_1_f</th>\n",
       "      <th>...</th>\n",
       "      <th>career_c_8.0_f</th>\n",
       "      <th>career_c_9.0_f</th>\n",
       "      <th>career_c_10.0_f</th>\n",
       "      <th>career_c_11.0_f</th>\n",
       "      <th>career_c_12.0_f</th>\n",
       "      <th>career_c_13.0_f</th>\n",
       "      <th>career_c_14.0_f</th>\n",
       "      <th>career_c_15.0_f</th>\n",
       "      <th>career_c_16.0_f</th>\n",
       "      <th>career_c_17.0_f</th>\n",
       "    </tr>\n",
       "  </thead>\n",
       "  <tbody>\n",
       "    <tr>\n",
       "      <th>0</th>\n",
       "      <td>1</td>\n",
       "      <td>1</td>\n",
       "      <td>10</td>\n",
       "      <td>1</td>\n",
       "      <td>11.0</td>\n",
       "      <td>21.0</td>\n",
       "      <td>2.0</td>\n",
       "      <td>4.0</td>\n",
       "      <td>2.0</td>\n",
       "      <td>15.0</td>\n",
       "      <td>...</td>\n",
       "      <td>0</td>\n",
       "      <td>0</td>\n",
       "      <td>0</td>\n",
       "      <td>0</td>\n",
       "      <td>0</td>\n",
       "      <td>0</td>\n",
       "      <td>0</td>\n",
       "      <td>0</td>\n",
       "      <td>0</td>\n",
       "      <td>0</td>\n",
       "    </tr>\n",
       "    <tr>\n",
       "      <th>10</th>\n",
       "      <td>2</td>\n",
       "      <td>1</td>\n",
       "      <td>10</td>\n",
       "      <td>1</td>\n",
       "      <td>11.0</td>\n",
       "      <td>24.0</td>\n",
       "      <td>2.0</td>\n",
       "      <td>5.0</td>\n",
       "      <td>1.0</td>\n",
       "      <td>45.0</td>\n",
       "      <td>...</td>\n",
       "      <td>0</td>\n",
       "      <td>0</td>\n",
       "      <td>0</td>\n",
       "      <td>0</td>\n",
       "      <td>0</td>\n",
       "      <td>0</td>\n",
       "      <td>0</td>\n",
       "      <td>0</td>\n",
       "      <td>0</td>\n",
       "      <td>0</td>\n",
       "    </tr>\n",
       "    <tr>\n",
       "      <th>20</th>\n",
       "      <td>3</td>\n",
       "      <td>1</td>\n",
       "      <td>10</td>\n",
       "      <td>1</td>\n",
       "      <td>11.0</td>\n",
       "      <td>25.0</td>\n",
       "      <td>8.0</td>\n",
       "      <td>4.0</td>\n",
       "      <td>6.0</td>\n",
       "      <td>35.0</td>\n",
       "      <td>...</td>\n",
       "      <td>0</td>\n",
       "      <td>0</td>\n",
       "      <td>0</td>\n",
       "      <td>0</td>\n",
       "      <td>0</td>\n",
       "      <td>0</td>\n",
       "      <td>0</td>\n",
       "      <td>0</td>\n",
       "      <td>0</td>\n",
       "      <td>0</td>\n",
       "    </tr>\n",
       "    <tr>\n",
       "      <th>30</th>\n",
       "      <td>4</td>\n",
       "      <td>1</td>\n",
       "      <td>10</td>\n",
       "      <td>1</td>\n",
       "      <td>11.0</td>\n",
       "      <td>23.0</td>\n",
       "      <td>1.0</td>\n",
       "      <td>1.0</td>\n",
       "      <td>1.0</td>\n",
       "      <td>20.0</td>\n",
       "      <td>...</td>\n",
       "      <td>0</td>\n",
       "      <td>0</td>\n",
       "      <td>0</td>\n",
       "      <td>0</td>\n",
       "      <td>0</td>\n",
       "      <td>0</td>\n",
       "      <td>0</td>\n",
       "      <td>0</td>\n",
       "      <td>0</td>\n",
       "      <td>0</td>\n",
       "    </tr>\n",
       "    <tr>\n",
       "      <th>40</th>\n",
       "      <td>5</td>\n",
       "      <td>1</td>\n",
       "      <td>10</td>\n",
       "      <td>1</td>\n",
       "      <td>11.0</td>\n",
       "      <td>21.0</td>\n",
       "      <td>8.0</td>\n",
       "      <td>1.0</td>\n",
       "      <td>2.0</td>\n",
       "      <td>20.0</td>\n",
       "      <td>...</td>\n",
       "      <td>0</td>\n",
       "      <td>0</td>\n",
       "      <td>0</td>\n",
       "      <td>0</td>\n",
       "      <td>0</td>\n",
       "      <td>0</td>\n",
       "      <td>0</td>\n",
       "      <td>0</td>\n",
       "      <td>0</td>\n",
       "      <td>0</td>\n",
       "    </tr>\n",
       "  </tbody>\n",
       "</table>\n",
       "<p>5 rows × 57 columns</p>\n",
       "</div>"
      ],
      "text/plain": [
       "    iid_f  wave_f  round_f  partner_f  pid_f  age_f  imprace_f  imprelig_f  \\\n",
       "0       1       1       10          1   11.0   21.0        2.0         4.0   \n",
       "10      2       1       10          1   11.0   24.0        2.0         5.0   \n",
       "20      3       1       10          1   11.0   25.0        8.0         4.0   \n",
       "30      4       1       10          1   11.0   23.0        1.0         1.0   \n",
       "40      5       1       10          1   11.0   21.0        8.0         1.0   \n",
       "\n",
       "    goal_f  attr1_1_f  ...  career_c_8.0_f  career_c_9.0_f  career_c_10.0_f  \\\n",
       "0      2.0       15.0  ...               0               0                0   \n",
       "10     1.0       45.0  ...               0               0                0   \n",
       "20     6.0       35.0  ...               0               0                0   \n",
       "30     1.0       20.0  ...               0               0                0   \n",
       "40     2.0       20.0  ...               0               0                0   \n",
       "\n",
       "    career_c_11.0_f  career_c_12.0_f  career_c_13.0_f  career_c_14.0_f  \\\n",
       "0                 0                0                0                0   \n",
       "10                0                0                0                0   \n",
       "20                0                0                0                0   \n",
       "30                0                0                0                0   \n",
       "40                0                0                0                0   \n",
       "\n",
       "    career_c_15.0_f  career_c_16.0_f  career_c_17.0_f  \n",
       "0                 0                0                0  \n",
       "10                0                0                0  \n",
       "20                0                0                0  \n",
       "30                0                0                0  \n",
       "40                0                0                0  \n",
       "\n",
       "[5 rows x 57 columns]"
      ]
     },
     "execution_count": 432,
     "metadata": {},
     "output_type": "execute_result"
    }
   ],
   "source": [
    "print(df_female.shape)\n",
    "print(df_female['iid_f'])\n",
    "df_female.head()"
   ]
  },
  {
   "cell_type": "code",
   "execution_count": 433,
   "metadata": {},
   "outputs": [],
   "source": [
    "final_df = pd.merge(df_male, df_female, left_on=['pid'], right_on=['iid_f'])\n"
   ]
  },
  {
   "cell_type": "code",
   "execution_count": 434,
   "metadata": {},
   "outputs": [
    {
     "data": {
      "text/plain": [
       "(4043,)"
      ]
     },
     "execution_count": 434,
     "metadata": {},
     "output_type": "execute_result"
    }
   ],
   "source": [
    "y = final_df['match'].values\n",
    "y.shape"
   ]
  },
  {
   "cell_type": "code",
   "execution_count": 435,
   "metadata": {},
   "outputs": [
    {
     "data": {
      "text/html": [
       "<div>\n",
       "<style scoped>\n",
       "    .dataframe tbody tr th:only-of-type {\n",
       "        vertical-align: middle;\n",
       "    }\n",
       "\n",
       "    .dataframe tbody tr th {\n",
       "        vertical-align: top;\n",
       "    }\n",
       "\n",
       "    .dataframe thead th {\n",
       "        text-align: right;\n",
       "    }\n",
       "</style>\n",
       "<table border=\"1\" class=\"dataframe\">\n",
       "  <thead>\n",
       "    <tr style=\"text-align: right;\">\n",
       "      <th></th>\n",
       "      <th>int_corr</th>\n",
       "      <th>samerace</th>\n",
       "      <th>age</th>\n",
       "      <th>imprace</th>\n",
       "      <th>imprelig</th>\n",
       "      <th>goal</th>\n",
       "      <th>attr1_1</th>\n",
       "      <th>sinc1_1</th>\n",
       "      <th>intel1_1</th>\n",
       "      <th>fun1_1</th>\n",
       "      <th>...</th>\n",
       "      <th>career_c_8.0_f</th>\n",
       "      <th>career_c_9.0_f</th>\n",
       "      <th>career_c_10.0_f</th>\n",
       "      <th>career_c_11.0_f</th>\n",
       "      <th>career_c_12.0_f</th>\n",
       "      <th>career_c_13.0_f</th>\n",
       "      <th>career_c_14.0_f</th>\n",
       "      <th>career_c_15.0_f</th>\n",
       "      <th>career_c_16.0_f</th>\n",
       "      <th>career_c_17.0_f</th>\n",
       "    </tr>\n",
       "  </thead>\n",
       "  <tbody>\n",
       "    <tr>\n",
       "      <th>0</th>\n",
       "      <td>0.14</td>\n",
       "      <td>0</td>\n",
       "      <td>27.0</td>\n",
       "      <td>7.0</td>\n",
       "      <td>3.0</td>\n",
       "      <td>1.0</td>\n",
       "      <td>35.0</td>\n",
       "      <td>20.0</td>\n",
       "      <td>20.0</td>\n",
       "      <td>20.0</td>\n",
       "      <td>...</td>\n",
       "      <td>0</td>\n",
       "      <td>0</td>\n",
       "      <td>0</td>\n",
       "      <td>0</td>\n",
       "      <td>0</td>\n",
       "      <td>0</td>\n",
       "      <td>0</td>\n",
       "      <td>0</td>\n",
       "      <td>0</td>\n",
       "      <td>0</td>\n",
       "    </tr>\n",
       "    <tr>\n",
       "      <th>1</th>\n",
       "      <td>0.54</td>\n",
       "      <td>0</td>\n",
       "      <td>22.0</td>\n",
       "      <td>1.0</td>\n",
       "      <td>1.0</td>\n",
       "      <td>1.0</td>\n",
       "      <td>60.0</td>\n",
       "      <td>0.0</td>\n",
       "      <td>0.0</td>\n",
       "      <td>40.0</td>\n",
       "      <td>...</td>\n",
       "      <td>0</td>\n",
       "      <td>0</td>\n",
       "      <td>0</td>\n",
       "      <td>0</td>\n",
       "      <td>0</td>\n",
       "      <td>0</td>\n",
       "      <td>0</td>\n",
       "      <td>0</td>\n",
       "      <td>0</td>\n",
       "      <td>0</td>\n",
       "    </tr>\n",
       "    <tr>\n",
       "      <th>2</th>\n",
       "      <td>0.16</td>\n",
       "      <td>1</td>\n",
       "      <td>22.0</td>\n",
       "      <td>3.0</td>\n",
       "      <td>5.0</td>\n",
       "      <td>2.0</td>\n",
       "      <td>19.0</td>\n",
       "      <td>18.0</td>\n",
       "      <td>19.0</td>\n",
       "      <td>18.0</td>\n",
       "      <td>...</td>\n",
       "      <td>0</td>\n",
       "      <td>0</td>\n",
       "      <td>0</td>\n",
       "      <td>0</td>\n",
       "      <td>0</td>\n",
       "      <td>0</td>\n",
       "      <td>0</td>\n",
       "      <td>0</td>\n",
       "      <td>0</td>\n",
       "      <td>0</td>\n",
       "    </tr>\n",
       "    <tr>\n",
       "      <th>3</th>\n",
       "      <td>0.61</td>\n",
       "      <td>0</td>\n",
       "      <td>23.0</td>\n",
       "      <td>1.0</td>\n",
       "      <td>1.0</td>\n",
       "      <td>2.0</td>\n",
       "      <td>30.0</td>\n",
       "      <td>5.0</td>\n",
       "      <td>15.0</td>\n",
       "      <td>40.0</td>\n",
       "      <td>...</td>\n",
       "      <td>0</td>\n",
       "      <td>0</td>\n",
       "      <td>0</td>\n",
       "      <td>0</td>\n",
       "      <td>0</td>\n",
       "      <td>0</td>\n",
       "      <td>0</td>\n",
       "      <td>0</td>\n",
       "      <td>0</td>\n",
       "      <td>0</td>\n",
       "    </tr>\n",
       "    <tr>\n",
       "      <th>4</th>\n",
       "      <td>0.21</td>\n",
       "      <td>0</td>\n",
       "      <td>24.0</td>\n",
       "      <td>3.0</td>\n",
       "      <td>1.0</td>\n",
       "      <td>1.0</td>\n",
       "      <td>30.0</td>\n",
       "      <td>10.0</td>\n",
       "      <td>20.0</td>\n",
       "      <td>10.0</td>\n",
       "      <td>...</td>\n",
       "      <td>0</td>\n",
       "      <td>0</td>\n",
       "      <td>0</td>\n",
       "      <td>0</td>\n",
       "      <td>0</td>\n",
       "      <td>0</td>\n",
       "      <td>0</td>\n",
       "      <td>0</td>\n",
       "      <td>0</td>\n",
       "      <td>0</td>\n",
       "    </tr>\n",
       "  </tbody>\n",
       "</table>\n",
       "<p>5 rows × 106 columns</p>\n",
       "</div>"
      ],
      "text/plain": [
       "   int_corr  samerace   age  imprace  imprelig  goal  attr1_1  sinc1_1  \\\n",
       "0      0.14         0  27.0      7.0       3.0   1.0     35.0     20.0   \n",
       "1      0.54         0  22.0      1.0       1.0   1.0     60.0      0.0   \n",
       "2      0.16         1  22.0      3.0       5.0   2.0     19.0     18.0   \n",
       "3      0.61         0  23.0      1.0       1.0   2.0     30.0      5.0   \n",
       "4      0.21         0  24.0      3.0       1.0   1.0     30.0     10.0   \n",
       "\n",
       "   intel1_1  fun1_1  ...  career_c_8.0_f  career_c_9.0_f  career_c_10.0_f  \\\n",
       "0      20.0    20.0  ...               0               0                0   \n",
       "1       0.0    40.0  ...               0               0                0   \n",
       "2      19.0    18.0  ...               0               0                0   \n",
       "3      15.0    40.0  ...               0               0                0   \n",
       "4      20.0    10.0  ...               0               0                0   \n",
       "\n",
       "   career_c_11.0_f  career_c_12.0_f  career_c_13.0_f  career_c_14.0_f  \\\n",
       "0                0                0                0                0   \n",
       "1                0                0                0                0   \n",
       "2                0                0                0                0   \n",
       "3                0                0                0                0   \n",
       "4                0                0                0                0   \n",
       "\n",
       "   career_c_15.0_f  career_c_16.0_f  career_c_17.0_f  \n",
       "0                0                0                0  \n",
       "1                0                0                0  \n",
       "2                0                0                0  \n",
       "3                0                0                0  \n",
       "4                0                0                0  \n",
       "\n",
       "[5 rows x 106 columns]"
      ]
     },
     "execution_count": 435,
     "metadata": {},
     "output_type": "execute_result"
    }
   ],
   "source": [
    "final_df = final_df.drop(['match', 'iid', 'wave', 'round', 'partner','pid', 'iid_f', 'wave_f', 'round_f', 'partner_f', 'pid_f'], axis=1)\n",
    "final_df.head()"
   ]
  },
  {
   "cell_type": "code",
   "execution_count": 436,
   "metadata": {},
   "outputs": [
    {
     "data": {
      "text/plain": [
       "(4043, 106)"
      ]
     },
     "execution_count": 436,
     "metadata": {},
     "output_type": "execute_result"
    }
   ],
   "source": [
    "X = final_df.values\n",
    "# print(sorted(list(X[:, 10])))\n",
    "X.shape"
   ]
  },
  {
   "cell_type": "code",
   "execution_count": 437,
   "metadata": {},
   "outputs": [],
   "source": [
    "X_tr, X_val, y_tr, y_val = train_test_split(X, y, test_size=0.2, random_state=42)"
   ]
  },
  {
   "cell_type": "code",
   "execution_count": 438,
   "metadata": {},
   "outputs": [],
   "source": [
    "my_clf = MyDecisionTreeClassifier(min_samples_split=2)\n",
    "clf = DecisionTreeClassifier(min_samples_split=2)"
   ]
  },
  {
   "cell_type": "code",
   "execution_count": 439,
   "metadata": {},
   "outputs": [
    {
     "name": "stdout",
     "output_type": "stream",
     "text": [
      "Wall time: 46 ms\n"
     ]
    }
   ],
   "source": [
    "%time clf = clf.fit(X_tr, y_tr)"
   ]
  },
  {
   "cell_type": "code",
   "execution_count": 440,
   "metadata": {},
   "outputs": [
    {
     "data": {
      "text/plain": [
       "[Text(167.4, 190.26, 'X[61] <= 19.075\\ngini = 0.281\\nsamples = 3234\\nvalue = [2687, 547]'),\n",
       " Text(83.7, 135.9, 'X[66] <= 16.513\\ngini = 0.24\\nsamples = 1875\\nvalue = [1613, 262]'),\n",
       " Text(41.85, 81.53999999999999, 'X[67] <= 31.411\\ngini = 0.216\\nsamples = 1456\\nvalue = [1277, 179]'),\n",
       " Text(20.925, 27.180000000000007, '\\n  (...)  \\n'),\n",
       " Text(62.775000000000006, 27.180000000000007, '\\n  (...)  \\n'),\n",
       " Text(125.55000000000001, 81.53999999999999, 'X[94] <= 0.5\\ngini = 0.318\\nsamples = 419\\nvalue = [336, 83]'),\n",
       " Text(104.625, 27.180000000000007, '\\n  (...)  \\n'),\n",
       " Text(146.475, 27.180000000000007, '\\n  (...)  \\n'),\n",
       " Text(251.10000000000002, 135.9, 'X[11] <= 8.165\\ngini = 0.331\\nsamples = 1359\\nvalue = [1074, 285]'),\n",
       " Text(209.25, 81.53999999999999, 'X[11] <= 5.278\\ngini = 0.398\\nsamples = 452\\nvalue = [328, 124]'),\n",
       " Text(188.32500000000002, 27.180000000000007, '\\n  (...)  \\n'),\n",
       " Text(230.175, 27.180000000000007, '\\n  (...)  \\n'),\n",
       " Text(292.95, 81.53999999999999, 'X[42] <= 0.5\\ngini = 0.292\\nsamples = 907\\nvalue = [746, 161]'),\n",
       " Text(272.02500000000003, 27.180000000000007, '\\n  (...)  \\n'),\n",
       " Text(313.875, 27.180000000000007, '\\n  (...)  \\n')]"
      ]
     },
     "execution_count": 440,
     "metadata": {},
     "output_type": "execute_result"
    },
    {
     "data": {
      "image/png": "[encoded data removed]",
      "text/plain": [
       "<Figure size 432x288 with 1 Axes>"
      ]
     },
     "metadata": {
      "needs_background": "light"
     },
     "output_type": "display_data"
    }
   ],
   "source": [
    "plot_tree(clf, max_depth = 2, fontsize=10)"
   ]
  },
  {
   "cell_type": "code",
   "execution_count": 441,
   "metadata": {},
   "outputs": [
    {
     "name": "stdout",
     "output_type": "stream",
     "text": [
      "Wall time: 2.85 s\n"
     ]
    }
   ],
   "source": [
    "%time my_clf =  my_clf.fit(X_tr, y_tr)"
   ]
  },
  {
   "cell_type": "code",
   "execution_count": 442,
   "metadata": {},
   "outputs": [
    {
     "name": "stdout",
     "output_type": "stream",
     "text": [
      "acc_sklearn =  0.7416563658838071\n",
      "acc_mine =  0.8355995055624228\n",
      "f1_sklearn =  0.22304832713754646\n",
      "f1_mine =  0.21301775147928992\n"
     ]
    }
   ],
   "source": [
    "print(\"acc_sklearn = \", accuracy_score(y_pred=clf.predict(X_val), y_true=y_val))\n",
    "print(\"acc_mine = \",accuracy_score(y_pred=my_clf.predict(X_val), y_true=y_val))\n",
    "print(\"f1_sklearn = \", f1_score(y_pred=clf.predict(X_val), y_true=y_val))\n",
    "print(\"f1_mine = \",f1_score(y_pred=my_clf.predict(X_val), y_true=y_val))"
   ]
  },
  {
   "cell_type": "code",
   "execution_count": null,
   "metadata": {},
   "outputs": [],
   "source": []
  },
  {
   "cell_type": "code",
   "execution_count": null,
   "metadata": {},
   "outputs": [],
   "source": []
  },
  {
   "cell_type": "markdown",
   "metadata": {},
   "source": [
    "Разбейте датасет на трейн и валидацию. Подберите на валидации оптимальный критерий  информативности. \n",
    "Постройте графики зависимости точности на валидации от глубины дерева, от минимального числа объектов для сплита. \n",
    "Какой максимальной точности удалось достигнуть?"
   ]
  },
  {
   "cell_type": "code",
   "execution_count": null,
   "metadata": {},
   "outputs": [],
   "source": []
  },
  {
   "cell_type": "code",
   "execution_count": 443,
   "metadata": {},
   "outputs": [
    {
     "name": "stderr",
     "output_type": "stream",
     "text": [
      "<ipython-input-390-b370b9acbdc5>:48: RuntimeWarning: divide by zero encountered in log\n",
      "  'entropy' : lambda x, y : -np.sum((x / y) * np.log(x / y), axis=1, keepdims=True)\n",
      "<ipython-input-390-b370b9acbdc5>:48: RuntimeWarning: invalid value encountered in multiply\n",
      "  'entropy' : lambda x, y : -np.sum((x / y) * np.log(x / y), axis=1, keepdims=True)\n"
     ]
    }
   ],
   "source": [
    "kf = KFold(n_splits=5)\n",
    "accs = []\n",
    "criters = ('class_error', 'gini', 'entropy')\n",
    "crit_acc = {}\n",
    "for crit in criters:\n",
    "    my_clf = MyDecisionTreeClassifier(min_samples_split=2, criterion=crit)\n",
    "    for train_idx, val_idx in kf.split(X):\n",
    "        X_train, X_val = X[train_idx], X[val_idx]\n",
    "        y_train, y_val = y[train_idx], y[val_idx]\n",
    "        fitted = my_clf.fit(X_train, y_train)\n",
    "        my_y = fitted.predict(X_val)\n",
    "        accs.append(accuracy_score(my_y, y_val))\n",
    "    crit_acc[crit] = sum(accs) / len(accs)"
   ]
  },
  {
   "cell_type": "code",
   "execution_count": 444,
   "metadata": {},
   "outputs": [
    {
     "data": {
      "text/plain": [
       "{'class_error': 0.8236430503371721,\n",
       " 'gini': 0.8205503677685444,\n",
       " 'entropy': 0.8160573906587197}"
      ]
     },
     "execution_count": 444,
     "metadata": {},
     "output_type": "execute_result"
    }
   ],
   "source": [
    "crit_acc"
   ]
  },
  {
   "cell_type": "code",
   "execution_count": 445,
   "metadata": {},
   "outputs": [
    {
     "data": {
      "text/plain": [
       "[<matplotlib.lines.Line2D at 0x1467075b370>]"
      ]
     },
     "execution_count": 445,
     "metadata": {},
     "output_type": "execute_result"
    },
    {
     "data": {
      "image/png": "[encoded data removed]",
      "text/plain": [
       "<Figure size 432x288 with 1 Axes>"
      ]
     },
     "metadata": {
      "needs_background": "light"
     },
     "output_type": "display_data"
    }
   ],
   "source": [
    "kf = KFold(n_splits=5)\n",
    "\n",
    "max_depths = (2,3,4,5,6,7,8)\n",
    "dept_acc = []\n",
    "for dept in max_depths:\n",
    "    my_clf = MyDecisionTreeClassifier(min_samples_split=2, criterion='class_error', max_depth=dept)\n",
    "    accs = []\n",
    "    for train_idx, val_idx in kf.split(X):\n",
    "        X_train, X_val = X[train_idx], X[val_idx]\n",
    "        y_train, y_val = y[train_idx], y[val_idx]\n",
    "        fitted = my_clf.fit(X_train, y_train)\n",
    "        my_y = fitted.predict(X_val)\n",
    "        accs.append(accuracy_score(my_y, y_val))\n",
    "    dept_acc.append(sum(accs) / len(accs))\n",
    "plt.plot(max_depths, dept_acc)"
   ]
  },
  {
   "cell_type": "markdown",
   "metadata": {},
   "source": [
    "Получается, что лучший критерий - ошибка классификации, но выделяется он не сильно. "
   ]
  },
  {
   "cell_type": "code",
   "execution_count": 446,
   "metadata": {},
   "outputs": [
    {
     "data": {
      "text/plain": [
       "[<matplotlib.lines.Line2D at 0x14673130370>]"
      ]
     },
     "execution_count": 446,
     "metadata": {},
     "output_type": "execute_result"
    },
    {
     "data": {
      "image/png": "[encoded data removed]",
      "text/plain": [
       "<Figure size 432x288 with 1 Axes>"
      ]
     },
     "metadata": {
      "needs_background": "light"
     },
     "output_type": "display_data"
    }
   ],
   "source": [
    "kf = KFold(n_splits=5)\n",
    "\n",
    "min_splits = (1,2,3,4,5,6,7)\n",
    "spl_acc = []\n",
    "for spl in min_splits:\n",
    "    my_clf = MyDecisionTreeClassifier(min_samples_split=spl, criterion='class_error', max_depth=3)\n",
    "    accs = []\n",
    "    for train_idx, val_idx in kf.split(X):\n",
    "        X_train, X_val = X[train_idx], X[val_idx]\n",
    "        y_train, y_val = y[train_idx], y[val_idx]\n",
    "        fitted = my_clf.fit(X_train, y_train)\n",
    "        my_y = fitted.predict(X_val)\n",
    "        accs.append(accuracy_score(my_y, y_val))\n",
    "    spl_acc.append(sum(accs) / len(accs))\n",
    "plt.plot(min_splits, spl_acc)"
   ]
  },
  {
   "cell_type": "markdown",
   "metadata": {},
   "source": [
    "Ну максимальная точность на кросс-валидации получилась 0.8313, roc-auc я трогать не буду, пусть лежит отдыхает."
   ]
  },
  {
   "cell_type": "code",
   "execution_count": null,
   "metadata": {},
   "outputs": [],
   "source": []
  },
  {
   "cell_type": "markdown",
   "metadata": {},
   "source": [
    "## Находим самые важные признаки (2 балла)\n",
    "\n"
   ]
  },
  {
   "cell_type": "markdown",
   "metadata": {},
   "source": [
    "По построенному дереву  легко понять, какие признаки лучше всего помогли решить задачу. Часто это бывает нужно  не только  для сокращения размерности в данных, но и для лучшего понимания прикладной задачи. Например, Вы хотите понять, какие признаки стоит еще конструировать -- для этого нужно понимать, какие из текущих лучше всего работают в дереве. "
   ]
  },
  {
   "cell_type": "markdown",
   "metadata": {},
   "source": [
    "Самый простой метод -- посчитать число сплитов, где использовался данные признак. Это не лучший вариант, так как по признаку который принимает всего 2 значения, но который почти точно разделяет выборку, число сплитов будет очень 1, но при этом признак сам очень хороший. \n",
    "В этом задании предлагается для каждого признака считать суммарный gain (в лекции обозначено как Q) при использовании этого признака в сплите. Тогда даже у очень хороших признаков с маленьким число сплитов это значение должно быть довольно высоким.  "
   ]
  },
  {
   "cell_type": "markdown",
   "metadata": {},
   "source": [
    "Реализовать это довольно просто: создаете словарь номер фичи : суммарный гейн и добавляете в нужную фичу каждый раз, когда используете ее при построении дерева. "
   ]
  },
  {
   "cell_type": "markdown",
   "metadata": {},
   "source": [
    "Добавьте функционал, который определяет значения feature importance. Обучите дерево на датасете Speed Dating Data.\n",
    "Выведите 10 главных фичей по важности."
   ]
  },
  {
   "cell_type": "markdown",
   "metadata": {},
   "source": [
    "Тут поставил джини, потому что у других очень маленькая важность получается (нормировать не хочу)"
   ]
  },
  {
   "cell_type": "code",
   "execution_count": 447,
   "metadata": {},
   "outputs": [],
   "source": [
    "my_clf = MyDecisionTreeClassifier(min_samples_split=2, criterion='gini', max_depth=3)"
   ]
  },
  {
   "cell_type": "code",
   "execution_count": 448,
   "metadata": {},
   "outputs": [],
   "source": [
    "my_clf =  my_clf.fit(X, y)"
   ]
  },
  {
   "cell_type": "code",
   "execution_count": 449,
   "metadata": {},
   "outputs": [],
   "source": [
    "important_features = my_clf.get_feature_importance()\n",
    "# print(important_features)"
   ]
  },
  {
   "cell_type": "code",
   "execution_count": 450,
   "metadata": {},
   "outputs": [
    {
     "name": "stdout",
     "output_type": "stream",
     "text": [
      "fun1_1_f = 0.004107801760524367\n",
      "fun1_1 = 0.004101826208742054\n",
      "sinc2_1 = 0.0020617231880294155\n",
      "imprelig_f = 0.0017107249333044195\n",
      "fun2_1_f = 0.0013482310927630885\n",
      "attr1_1_f = 0.0012724470403017495\n",
      "int_corr = 0.0009320815321415039\n",
      "career_c_2.0 = 0.000791491466732624\n",
      "intel2_1_f = 0.0007064642098900118\n",
      "attr2_1 = 0.0004758034424006938\n"
     ]
    }
   ],
   "source": [
    "for f, imp in important_features:\n",
    "    print(f\"{final_df.columns[f]} = {imp}\")"
   ]
  },
  {
   "cell_type": "markdown",
   "metadata": {},
   "source": [
    "Весёлость, религия, привлекательность. В принципе похоже на правду."
   ]
  },
  {
   "cell_type": "markdown",
   "metadata": {},
   "source": [
    "## Фидбек (бесценно)"
   ]
  },
  {
   "cell_type": "markdown",
   "metadata": {},
   "source": [
    "* Какие аспекты обучения деревьев решений Вам показались непонятными? Какое место стоит дополнительно объяснить?"
   ]
  },
  {
   "cell_type": "markdown",
   "metadata": {},
   "source": [
    "### ВАШ ОТЗЫВ ЗДЕСЬ\n",
    "\n"
   ]
  },
  {
   "cell_type": "markdown",
   "metadata": {
    "collapsed": true
   },
   "source": [
    "1. Понятно, что работать не хуже, чем библиотечная функция это хорошо. Но когда в них используются какие-то преколы типа усреднения порога, то это не всегда бывает очевидно (я даже почитал документацию, но там вообще мрак...). Поэтому лучше такие моменты писать куда-нибудь в описание задачи."
   ]
  },
  {
   "cell_type": "markdown",
   "metadata": {
    "collapsed": true
   },
   "source": [
    "2. Задания со скоростью работы это вообще...<br>\n",
    "   Вроде бы х10 от времени библиотечной функции это много, но есть ощущение, что эта цифра привязана к конкретному авторскому решению. И получается, что приходится его угадывать (я серьезно пытался). <br>\n",
    "   Но даже если угадать это решение(конечно же озарение), то тут начинается дичь с реализацией. Да, я не спорю, точно не пишу лучший код. Но когда авторское решение с другой релизацией медленнее в 5 раз, приходит осознание, что требуется конкретная реализация  (потому что в документации sklearn как известно дичь и там идей не подсмотреть). Короче я хотел сказать, что брать хорошее авторское решение и требовать повторить его время, это не лучшая идея.\n",
    "   Покритиковал, теперь время предложить: \n",
    "       2.1. Можно сделать шкалу, с переводом времени работы в баллы, чтобы не оставлять задание без оценивания: меньше 10х от sklearn - 3 балла, меньше 30х - 2 балла, меньше 50х - 1 балл. (расценки для примера, но я считаю, что минимально нужно ставить 1 балл хотя бы ради мотивации делать дальше домашку... это же уровень квиза)\n",
    "       2.2. Вариант с большей затратой времени, но концептуальнее.\n",
    "           Собрать решения учеников одного семестра(желательно не кагл мастеров и не выше) и усреднить их время работы. Или опять же сделать шкалу по ним. В любом случае шансов набрать баллы будет побольше.\n",
    "       2.3. Тут уже предложение не для этого курса видимо, но всё же. \n",
    "           Понятно, что numpy это быстрее, чем обычный python. Но что именно быстрее и насколько нигде не освещается. И оказывается, что предложение \"использовать numpy\" звучит также как предложение \"напишите, чтобы было хорошо\"(оно издевается надо мной). Можно потратить кучу времени на реализацию решения с помощью numpy, и всё равно получить большее время работы, просто потому что ожидается использование каких-то конкретных функций. И тогда происходит полное разочарование в себе и в numpy тоже. В общем я считаю, что нужно больше примеров скорости numpy(асимптотики работы и best practice тд.) и добрых (а главное полезных) предложений в описании задания.\n",
    "           \n",
    "           \n",
    "Надеюсь авторы задания никак не обиделись на эти слова(я честно не хотел), и найдут в этом беспорядочном потоке мыслей что-то полезное для улучшения задания."
   ]
  },
  {
   "cell_type": "code",
   "execution_count": null,
   "metadata": {},
   "outputs": [],
   "source": []
  }
 ],
 "metadata": {
  "anaconda-cloud": {},
  "kernelspec": {
   "display_name": "Python 3",
   "language": "python",
   "name": "python3"
  },
  "language_info": {
   "codemirror_mode": {
    "name": "ipython",
    "version": 3
   },
   "file_extension": ".py",
   "mimetype": "text/x-python",
   "name": "python",
   "nbconvert_exporter": "python",
   "pygments_lexer": "ipython3",
   "version": "3.8.3"
  }
 },
 "nbformat": 4,
 "nbformat_minor": 2
}
